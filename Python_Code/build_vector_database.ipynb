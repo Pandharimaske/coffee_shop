{
 "cells": [
  {
   "cell_type": "code",
   "execution_count": 1,
   "metadata": {},
   "outputs": [
    {
     "name": "stderr",
     "output_type": "stream",
     "text": [
      "/opt/anaconda3/envs/ai/lib/python3.10/site-packages/tqdm/auto.py:21: TqdmWarning: IProgress not found. Please update jupyter and ipywidgets. See https://ipywidgets.readthedocs.io/en/stable/user_install.html\n",
      "  from .autonotebook import tqdm as notebook_tqdm\n"
     ]
    }
   ],
   "source": [
    "from pinecone import Pinecone, ServerlessSpec\n",
    "import os\n",
    "import pandas as pd\n",
    "from time import time\n",
    "import dotenv\n",
    "dotenv.load_dotenv()\n",
    "import requests\n",
    "from sentence_transformers import SentenceTransformer"
   ]
  },
  {
   "cell_type": "code",
   "execution_count": 2,
   "metadata": {},
   "outputs": [],
   "source": [
    "embedding_model= os.getenv(\"HF_EMBEDDING_MODEL\")\n",
    "pinecone_api_key = os.getenv(\"PINECONE_API_KEY\") \n",
    "hf_token = os.getenv(\"HF_API_TOKEN\")"
   ]
  },
  {
   "cell_type": "code",
   "execution_count": 3,
   "metadata": {},
   "outputs": [
    {
     "name": "stdout",
     "output_type": "stream",
     "text": [
      "sentence-transformers/all-MiniLM-L6-v2\n"
     ]
    }
   ],
   "source": [
    "print(embedding_model)"
   ]
  },
  {
   "cell_type": "code",
   "execution_count": 4,
   "metadata": {},
   "outputs": [],
   "source": [
    "pc = Pinecone(api_key=pinecone_api_key)"
   ]
  },
  {
   "cell_type": "markdown",
   "metadata": {},
   "source": [
    "## Try out Embeddings"
   ]
  },
  {
   "cell_type": "code",
   "execution_count": 5,
   "metadata": {},
   "outputs": [
    {
     "name": "stderr",
     "output_type": "stream",
     "text": [
      "/opt/anaconda3/envs/ai/lib/python3.10/site-packages/sentence_transformers/SentenceTransformer.py:196: FutureWarning: The `use_auth_token` argument is deprecated and will be removed in v4 of SentenceTransformers.\n",
      "  warnings.warn(\n"
     ]
    }
   ],
   "source": [
    "model = SentenceTransformer(\"sentence-transformers/all-MiniLM-L6-v2\", use_auth_token=hf_token)"
   ]
  },
  {
   "cell_type": "code",
   "execution_count": 6,
   "metadata": {},
   "outputs": [
    {
     "name": "stdout",
     "output_type": "stream",
     "text": [
      "[-9.44389775e-02  7.32229427e-02  4.22687568e-02  5.43074869e-02\n",
      " -6.71972483e-02 -8.54509398e-02  5.02346195e-02  5.22130243e-02\n",
      " -3.30305360e-02 -1.92673616e-02  1.98906828e-02 -1.87793449e-02\n",
      " -4.50837091e-02 -2.30843984e-02 -8.01779889e-03 -5.37793851e-04\n",
      "  1.77754201e-02 -7.73390476e-03 -1.33809924e-01  2.44181091e-03\n",
      " -3.39495279e-02  6.79327771e-02 -8.24581757e-02  5.16677983e-02\n",
      " -4.81917933e-02 -6.25122488e-02  3.12229022e-02  2.16497984e-02\n",
      " -9.58177354e-03 -4.12142463e-02  1.41428690e-02  4.40271683e-02\n",
      "  4.06081267e-02  4.40277047e-02  4.67462204e-02  5.66849709e-02\n",
      " -9.73806158e-02 -5.96724376e-02  5.62413335e-02 -1.05548371e-02\n",
      "  1.87592916e-02 -4.90627140e-02  1.64432230e-03 -1.40135549e-02\n",
      "  4.78914641e-02 -8.65959674e-02  1.77434143e-02 -1.61414612e-02\n",
      "  6.85802326e-02 -1.93422486e-03 -2.59225629e-02 -5.88065423e-02\n",
      " -8.67195576e-02 -1.13075897e-02  1.70807749e-01  1.87362339e-02\n",
      "  9.57627594e-03 -6.21815175e-02  5.96843734e-02 -4.49172035e-02\n",
      " -2.04865038e-02  2.81824321e-02 -4.19907086e-02 -6.31800368e-02\n",
      "  2.72953063e-02 -8.83809999e-02 -6.07720837e-02 -4.99359109e-02\n",
      " -3.55900973e-02 -8.12591165e-02 -6.51218221e-02  9.83776152e-03\n",
      " -2.79878564e-02  4.93885353e-02 -7.00758919e-02 -4.69848560e-03\n",
      "  3.27326953e-02  1.93239544e-02 -2.35688705e-02 -5.11700921e-02\n",
      "  7.97875375e-02 -6.75460920e-02 -4.26335111e-02 -3.52938822e-03\n",
      "  4.39295359e-03 -1.89363665e-04  6.47572130e-02  5.85194603e-02\n",
      "  1.14941802e-02  8.87928251e-03 -7.58931860e-02  3.61803249e-02\n",
      "  1.03365034e-02 -1.49055840e-02 -7.18588978e-02 -3.89911979e-02\n",
      "  8.91738907e-02  4.84825624e-03 -9.16720033e-02  2.06659421e-01\n",
      "  3.65662426e-02  7.59737268e-02  3.38221006e-02  2.84650549e-02\n",
      " -2.72075599e-03  1.52499201e-02 -4.42721620e-02  2.09496412e-02\n",
      " -2.84831170e-02 -3.49972472e-02 -2.85468921e-02 -5.06842881e-03\n",
      "  5.53034209e-02  3.82638052e-02  8.47400948e-02  2.37095729e-03\n",
      "  1.75284930e-02  6.01813160e-02  7.49316886e-02 -1.62754599e-02\n",
      "  3.25581506e-02 -1.12707820e-02 -1.93557758e-02  4.82476316e-02\n",
      "  4.85817902e-02 -2.63796151e-02 -2.39967331e-02 -1.86950842e-33\n",
      "  7.44331256e-02  4.20978213e-05  3.19184922e-02  1.18933290e-01\n",
      "  3.37968906e-03 -1.44468118e-02 -9.21939984e-02 -4.94397432e-02\n",
      "  2.50887740e-02  5.38999103e-02 -2.09757183e-02  4.25552651e-02\n",
      " -4.00877297e-02  1.91370808e-02  7.63955712e-02  7.28064254e-02\n",
      " -5.30925617e-02  3.38794254e-02 -2.29314044e-02  1.41846091e-02\n",
      " -1.67381391e-02 -1.32565396e-02  3.20688002e-02  4.75816876e-02\n",
      "  3.05424817e-02 -1.76572148e-02  5.41665815e-02 -9.04533491e-02\n",
      "  4.30165343e-02  3.80782001e-02 -6.07932992e-02 -6.48512086e-03\n",
      " -1.43991541e-02  3.07149142e-02 -1.07259285e-02 -6.67151390e-03\n",
      " -3.26717715e-03 -6.12852387e-02 -4.51847017e-02  1.74919609e-02\n",
      " -3.04370821e-02  1.22752171e-02  3.50656770e-02  8.09538364e-03\n",
      "  4.96327952e-02  1.99269201e-03  6.09948449e-02  1.30234966e-02\n",
      "  1.10813901e-02  7.04744784e-03 -6.22541197e-02  1.59342457e-02\n",
      " -7.58479387e-02  2.60500051e-02 -7.82286599e-02  1.11714657e-02\n",
      "  1.48483478e-02 -1.79054439e-02  4.87280674e-02  2.11536251e-02\n",
      "  8.45061913e-02  1.15371242e-01 -6.77235723e-02 -4.16703299e-02\n",
      " -5.45269176e-02 -6.01636060e-02  8.17747265e-02 -8.97842832e-03\n",
      "  4.56167012e-02 -5.82172209e-03 -2.57457327e-02  1.75947919e-02\n",
      "  2.31066663e-02 -9.30996705e-03  1.68360826e-02 -3.28673190e-03\n",
      "  4.18319628e-02 -3.71217020e-02  4.24084701e-02 -7.00377822e-02\n",
      "  5.57451183e-03  4.68154484e-03 -3.48200798e-02  1.62112303e-02\n",
      "  2.01670974e-02 -2.07293145e-02  1.95444059e-02 -1.17132694e-01\n",
      " -7.76188150e-02 -3.79285775e-02  2.19396874e-03  6.78906962e-02\n",
      "  6.42876923e-02 -2.18440648e-02 -6.43126592e-02  1.69329025e-33\n",
      "  1.36592522e-01  2.22780239e-02 -5.28064072e-02 -1.99818891e-02\n",
      " -3.30041461e-02 -1.70465570e-03 -3.43128704e-02  6.90554902e-02\n",
      " -1.13490298e-01  4.98325974e-02  4.19895463e-02  1.71849150e-02\n",
      "  4.68325540e-02  4.67442535e-03  1.00232176e-01  9.19062793e-02\n",
      "  1.04436852e-01  9.28876400e-02 -5.75016402e-02 -1.86017659e-02\n",
      " -4.31754701e-02 -1.48964208e-02  4.22885492e-02 -2.12202426e-02\n",
      "  2.69444790e-02 -1.42495316e-02  8.99410062e-03  5.65780215e-02\n",
      " -1.37725517e-01 -2.77422704e-02  5.92636280e-02  5.30249178e-02\n",
      " -4.41020429e-02 -3.01274136e-02  5.05956076e-02  5.27450293e-02\n",
      "  3.10541447e-02 -4.29356098e-02  5.26619554e-02 -2.72987876e-02\n",
      " -6.25489876e-02  1.33807342e-02 -4.73857634e-02  5.63752167e-02\n",
      " -2.84171123e-02 -6.82676062e-02  9.40887723e-03  5.99671993e-03\n",
      " -2.11918671e-02  4.17736657e-02 -8.97343457e-02 -5.44302203e-02\n",
      " -3.47314961e-02  2.46223044e-02 -5.11252470e-02  4.05883081e-02\n",
      "  3.49540822e-02  3.59998760e-03  4.69416045e-02 -2.51959376e-02\n",
      "  1.28244935e-02  4.95263748e-02  5.87282702e-02  1.01056352e-01\n",
      " -1.48829613e-02  4.53143492e-02 -5.16548678e-02  1.02010183e-02\n",
      "  2.58985385e-02  2.17241747e-03  2.28443667e-02 -1.35200918e-02\n",
      "  2.64040418e-02 -1.04403961e-02  1.44621627e-02  1.89642161e-02\n",
      "  3.20934760e-03  4.28602919e-02 -1.88475363e-02 -1.71968862e-02\n",
      " -5.20444056e-03  1.91753749e-02  4.54214402e-03  2.40081791e-02\n",
      " -2.58712284e-02 -2.80167274e-02  6.89054579e-02  5.62217645e-02\n",
      "  2.03693472e-02 -6.50098026e-02  3.40209417e-02 -1.18229613e-02\n",
      " -3.82126980e-02  4.08758596e-02 -4.92516607e-02 -1.57734839e-08\n",
      " -2.43772492e-02 -3.83918509e-02  6.92293718e-02  4.18409444e-02\n",
      "  1.93778425e-02  8.02643821e-02 -7.02480525e-02 -9.03400704e-02\n",
      "  2.40499643e-03  1.98812056e-02  9.51396897e-02  7.75508732e-02\n",
      " -3.30283232e-02  2.21900102e-02  7.64098614e-02  3.07738036e-02\n",
      " -4.15794030e-02 -7.62243476e-03 -5.91097139e-02 -5.98537028e-02\n",
      " -1.15873590e-02  4.82746437e-02  2.55295839e-02 -1.05705433e-01\n",
      "  6.29877672e-03  2.95543205e-02  5.26012992e-03  2.83415429e-02\n",
      " -7.07812756e-02  2.53126249e-02 -2.84005590e-02  1.23781323e-01\n",
      " -3.69810611e-02 -4.50392812e-03 -3.61817740e-02  2.01186389e-02\n",
      " -3.27306166e-02  3.23971324e-02  7.30815232e-02 -7.82256573e-02\n",
      " -7.69935176e-02 -4.42760959e-02 -6.50511531e-04 -1.08064242e-01\n",
      " -3.43365483e-02  2.25164574e-02  2.79703923e-02 -6.76972046e-02\n",
      " -7.38626753e-04 -8.59567896e-02  4.26853411e-02  5.74124902e-02\n",
      "  4.71796393e-02  8.83575231e-02  1.14262693e-01  7.06124082e-02\n",
      " -1.39133539e-02 -2.08187420e-02 -7.96442479e-02  9.54781845e-03\n",
      "  4.40237150e-02  3.23989638e-03  9.96924788e-02  2.73116920e-02]\n"
     ]
    }
   ],
   "source": [
    "# Generate embedding\n",
    "text_input = [\"hello there\"]\n",
    "embedding = model.encode(text_input)[0]  # It's already a numpy array\n",
    "\n",
    "print(embedding)  # Will print the 384-dimensional embedding vector"
   ]
  },
  {
   "cell_type": "code",
   "execution_count": 7,
   "metadata": {},
   "outputs": [
    {
     "data": {
      "text/plain": [
       "(384,)"
      ]
     },
     "execution_count": 7,
     "metadata": {},
     "output_type": "execute_result"
    }
   ],
   "source": [
    "embedding.shape"
   ]
  },
  {
   "cell_type": "code",
   "execution_count": 8,
   "metadata": {},
   "outputs": [],
   "source": [
    "# output"
   ]
  },
  {
   "cell_type": "code",
   "execution_count": null,
   "metadata": {},
   "outputs": [],
   "source": []
  },
  {
   "cell_type": "markdown",
   "metadata": {},
   "source": [
    "## Wrangle Dataset"
   ]
  },
  {
   "cell_type": "code",
   "execution_count": 9,
   "metadata": {},
   "outputs": [],
   "source": [
    "df = pd.read_json(\"products/products.jsonl\" , lines=True)"
   ]
  },
  {
   "cell_type": "code",
   "execution_count": 10,
   "metadata": {},
   "outputs": [
    {
     "data": {
      "text/html": [
       "<div>\n",
       "<style scoped>\n",
       "    .dataframe tbody tr th:only-of-type {\n",
       "        vertical-align: middle;\n",
       "    }\n",
       "\n",
       "    .dataframe tbody tr th {\n",
       "        vertical-align: top;\n",
       "    }\n",
       "\n",
       "    .dataframe thead th {\n",
       "        text-align: right;\n",
       "    }\n",
       "</style>\n",
       "<table border=\"1\" class=\"dataframe\">\n",
       "  <thead>\n",
       "    <tr style=\"text-align: right;\">\n",
       "      <th></th>\n",
       "      <th>name</th>\n",
       "      <th>category</th>\n",
       "      <th>description</th>\n",
       "      <th>ingredients</th>\n",
       "      <th>price</th>\n",
       "      <th>rating</th>\n",
       "      <th>image_path</th>\n",
       "    </tr>\n",
       "  </thead>\n",
       "  <tbody>\n",
       "    <tr>\n",
       "      <th>0</th>\n",
       "      <td>Cappuccino</td>\n",
       "      <td>Coffee</td>\n",
       "      <td>A rich and creamy cappuccino made with freshly...</td>\n",
       "      <td>[Espresso, Steamed Milk, Milk Foam]</td>\n",
       "      <td>4.50</td>\n",
       "      <td>4.7</td>\n",
       "      <td>cappuccino.jpg</td>\n",
       "    </tr>\n",
       "    <tr>\n",
       "      <th>1</th>\n",
       "      <td>Jumbo Savory Scone</td>\n",
       "      <td>Bakery</td>\n",
       "      <td>Deliciously flaky and buttery, this jumbo savo...</td>\n",
       "      <td>[Flour, Butter, Cheese, Herbs, Baking Powder, ...</td>\n",
       "      <td>3.25</td>\n",
       "      <td>4.3</td>\n",
       "      <td>SavoryScone.webp</td>\n",
       "    </tr>\n",
       "  </tbody>\n",
       "</table>\n",
       "</div>"
      ],
      "text/plain": [
       "                 name category  \\\n",
       "0          Cappuccino   Coffee   \n",
       "1  Jumbo Savory Scone   Bakery   \n",
       "\n",
       "                                         description  \\\n",
       "0  A rich and creamy cappuccino made with freshly...   \n",
       "1  Deliciously flaky and buttery, this jumbo savo...   \n",
       "\n",
       "                                         ingredients  price  rating  \\\n",
       "0                [Espresso, Steamed Milk, Milk Foam]   4.50     4.7   \n",
       "1  [Flour, Butter, Cheese, Herbs, Baking Powder, ...   3.25     4.3   \n",
       "\n",
       "         image_path  \n",
       "0    cappuccino.jpg  \n",
       "1  SavoryScone.webp  "
      ]
     },
     "execution_count": 10,
     "metadata": {},
     "output_type": "execute_result"
    }
   ],
   "source": [
    "df.head(2)"
   ]
  },
  {
   "cell_type": "code",
   "execution_count": 11,
   "metadata": {},
   "outputs": [],
   "source": [
    "df['text'] =  df['name']+\" : \"+df['description'] + \\\n",
    "                \" -- Ingredients: \" + df['ingredients'].astype(str) + \\\n",
    "                \" -- Price: \" + df['price'].astype(str) + \\\n",
    "                \" -- rating: \" + df['rating'].astype(str)"
   ]
  },
  {
   "cell_type": "code",
   "execution_count": 12,
   "metadata": {},
   "outputs": [
    {
     "data": {
      "text/plain": [
       "0    Cappuccino : A rich and creamy cappuccino made...\n",
       "1    Jumbo Savory Scone : Deliciously flaky and but...\n",
       "2    Latte : Smooth and creamy, our latte combines ...\n",
       "3    Chocolate Chip Biscotti : Crunchy and delightf...\n",
       "4    Espresso shot : A bold shot of rich espresso, ...\n",
       "Name: text, dtype: object"
      ]
     },
     "execution_count": 12,
     "metadata": {},
     "output_type": "execute_result"
    }
   ],
   "source": [
    "df['text'].head()"
   ]
  },
  {
   "cell_type": "code",
   "execution_count": 13,
   "metadata": {},
   "outputs": [],
   "source": [
    "texts = df['text'].tolist()"
   ]
  },
  {
   "cell_type": "code",
   "execution_count": 14,
   "metadata": {},
   "outputs": [],
   "source": [
    "with open('products/Merry\\'s_way_about_us.txt') as f:\n",
    "    Merry_way_about_section = f.read()\n",
    "    \n",
    "Merry_way_about_section = \"Coffee shop Merry's Way about section: \" + Merry_way_about_section\n",
    "texts.append(Merry_way_about_section)"
   ]
  },
  {
   "cell_type": "code",
   "execution_count": 15,
   "metadata": {},
   "outputs": [],
   "source": [
    "with open('products/menu_items_text.txt') as f:\n",
    "    menue_items_text = f.read()\n",
    "    \n",
    "menue_items_text = \"Menu Items: \" + menue_items_text\n",
    "texts.append(menue_items_text)"
   ]
  },
  {
   "cell_type": "markdown",
   "metadata": {},
   "source": [
    "## Generate Embeddings"
   ]
  },
  {
   "cell_type": "code",
   "execution_count": 16,
   "metadata": {},
   "outputs": [
    {
     "data": {
      "text/plain": [
       "[\"Cappuccino : A rich and creamy cappuccino made with freshly brewed espresso, steamed milk, and a frothy milk cap. This delightful drink offers a perfect balance of bold coffee flavor and smooth milk, making it an ideal companion for relaxing mornings or lively conversations. -- Ingredients: ['Espresso', 'Steamed Milk', 'Milk Foam'] -- Price: 4.5 -- rating: 4.7\",\n",
       " \"Jumbo Savory Scone : Deliciously flaky and buttery, this jumbo savory scone is filled with herbs and cheese, creating a mouthwatering experience. Perfect for a hearty snack or a light lunch, it pairs beautifully with your favorite coffee or tea. -- Ingredients: ['Flour', 'Butter', 'Cheese', 'Herbs', 'Baking Powder', 'Salt'] -- Price: 3.25 -- rating: 4.3\",\n",
       " \"Latte : Smooth and creamy, our latte combines rich espresso with velvety steamed milk, creating a perfect balance of flavor and texture. Enjoy it as a comforting treat any time of day, whether you're starting your morning or taking a midday break. -- Ingredients: ['Espresso', 'Steamed Milk', 'Milk Foam'] -- Price: 4.75 -- rating: 4.8\",\n",
       " \"Chocolate Chip Biscotti : Crunchy and delightful, this chocolate chip biscotti is perfect for dipping in your coffee or enjoying on its own. Each bite offers a satisfying crunch and a burst of rich chocolate, making it a favorite for any biscotti lover. -- Ingredients: ['Flour', 'Sugar', 'Chocolate Chips', 'Eggs', 'Almonds', 'Baking Powder'] -- Price: 2.5 -- rating: 4.6\",\n",
       " \"Espresso shot : A bold shot of rich espresso, our espresso is crafted from the finest beans to deliver a robust flavor in every sip. Perfect for a quick pick-me-up, it can also serve as a base for your favorite coffee drinks. -- Ingredients: ['Espresso'] -- Price: 2.0 -- rating: 4.9\",\n",
       " \"Hazelnut Biscotti : These delicious hazelnut biscotti are perfect for a crunchy treat alongside your coffee. Infused with roasted hazelnuts, they provide a delightful nutty flavor that enhances your coffee experience. -- Ingredients: ['Flour', 'Sugar', 'Hazelnuts', 'Eggs', 'Baking Powder'] -- Price: 2.75 -- rating: 4.4\",\n",
       " \"Chocolate Croissant : Flaky and buttery, our chocolate croissant is filled with rich chocolate, making it a delightful pastry for any time. Perfect for breakfast or an afternoon snack, it's a sweet indulgence that never disappoints. -- Ingredients: ['Flour', 'Butter', 'Chocolate', 'Yeast', 'Sugar', 'Salt'] -- Price: 3.75 -- rating: 4.8\",\n",
       " \"Dark chocolate : Rich and indulgent, our dark chocolate drinking chocolate is made with premium cocoa. This luxurious beverage is perfect for a cozy treat on a chilly day, bringing warmth and comfort with every sip. -- Ingredients: ['Cocoa Powder', 'Sugar', 'Milk'] -- Price: 5.0 -- rating: 4.7\",\n",
       " \"Cranberry Scone : This delightful cranberry scone combines sweet and tart flavors, making it perfect for a breakfast treat or afternoon snack. Soft and crumbly, it pairs wonderfully with tea or coffee for a comforting experience. -- Ingredients: ['Flour', 'Butter', 'Cranberries', 'Sugar', 'Baking Powder', 'Eggs'] -- Price: 3.5 -- rating: 4.5\",\n",
       " \"Croissant : Our classic croissant is flaky and buttery, offering a delightful crunch with each bite. Whether enjoyed alone or filled with your favorite spread, it's a timeless pastry that elevates any meal. -- Ingredients: ['Flour', 'Butter', 'Yeast', 'Sugar', 'Salt'] -- Price: 3.25 -- rating: 4.7\",\n",
       " \"Almond Croissant : A delightful twist on the classic croissant, filled with almond cream and topped with slivered almonds for added crunch. This indulgent treat is perfect for those who love a sweet and nutty flavor combination. -- Ingredients: ['Flour', 'Butter', 'Almond Cream', 'Sugar', 'Almonds', 'Yeast'] -- Price: 4.0 -- rating: 4.8\",\n",
       " \"Ginger Biscotti : These spicy ginger biscotti are perfect for dipping and provide a delightful crunch with every bite. The warm flavor of ginger adds a unique twist that pairs beautifully with your favorite hot beverage. -- Ingredients: ['Flour', 'Sugar', 'Ginger', 'Eggs', 'Baking Powder'] -- Price: 2.5 -- rating: 4.7\",\n",
       " \"Oatmeal Scone : Nutty and wholesome, our oatmeal scone is a perfect snack for any time. Made with rolled oats and a hint of sweetness, it's a satisfying option for those who enjoy hearty baked goods. -- Ingredients: ['Flour', 'Oats', 'Butter', 'Sugar', 'Baking Powder', 'Eggs'] -- Price: 3.25 -- rating: 4.3\",\n",
       " \"Ginger Scone : Soft and fragrant, our ginger scone is perfect for a morning treat, infused with the warm spice of ginger. It's an inviting option that pairs beautifully with a cup of tea or coffee. -- Ingredients: ['Flour', 'Butter', 'Ginger', 'Sugar', 'Baking Powder', 'Eggs'] -- Price: 3.5 -- rating: 4.5\",\n",
       " \"Chocolate syrup : Our rich chocolate syrup is perfect for drizzling over desserts or adding to your favorite beverages. Its velvety texture and intense chocolate flavor make it an essential topping for any sweet creation. -- Ingredients: ['Sugar', 'Cocoa Powder', 'Water', 'Vanilla Extract'] -- Price: 1.5 -- rating: 4.8\",\n",
       " \"Hazelnut syrup : Add a nutty flavor to your drinks with our hazelnut syrup, perfect for lattes and desserts. Its smooth sweetness enhances a variety of beverages, making it a must-have for coffee lovers. -- Ingredients: ['Sugar', 'Water', 'Hazelnut Extract', 'Vanilla Extract'] -- Price: 1.5 -- rating: 4.7\",\n",
       " \"Carmel syrup : Sweet and creamy, our caramel syrup is ideal for topping your drinks and desserts with a rich caramel flavor. This versatile syrup elevates everything from coffee to ice cream, providing a luscious touch. -- Ingredients: ['Sugar', 'Water', 'Cream', 'Butter', 'Vanilla Extract'] -- Price: 1.5 -- rating: 4.9\",\n",
       " \"Sugar Free Vanilla syrup : Enjoy the sweet flavor of vanilla without the sugar, making it perfect for your coffee or dessert. This syrup offers a guilt-free way to enhance your beverages, ensuring you never miss out on flavor. -- Ingredients: ['Water', 'Natural Flavors', 'Sucralose'] -- Price: 1.5 -- rating: 4.4\",\n",
       " \"Coffee shop Merry's Way about section: Welcome to Merry's Way Coffee, your neighborhood coffee shop located in the heart of Greenwich Village, New York City. At Merry's Way, we believe that coffee is more than just a drink—it’s an experience, a moment of joy, and a way to connect with others.\\n\\nOur Story\\nFounded in 2015, Merry’s Way started as a small family-owned café with one mission: to share the love of quality, ethically-sourced coffee with our community.\\n\\nMerry's passion for travel and coffee led her on a journey across South America, where she handpicked partnerships with small farms and cooperatives. We ensure that every cup we brew tells a story of dedication and care, from farm to table. Our beans are roasted in-house to bring out unique flavors that reflect the regions where they were grown.\\n\\nDelivery & Locations Served\\nIn addition to offering a cozy place to enjoy coffee in our café, we proudly deliver to Greenwich Village, SoHo, West Village, and Lower Manhattan. Whether you’re at home, in the office, or enjoying a day at Washington Square Park, we bring your favorite coffee right to your door. Just a click away, our delivery service ensures that you never miss your daily cup, no matter where you are.\\n\\nOur Menu\\nOur menu offers something for everyone, from our signature espresso blends to refreshing cold brews, artisanal teas, and fresh-baked goods sourced from local bakeries. We also cater to a variety of dietary needs with a range of plant-based milk options and gluten-free snacks.\\n\\nCommunity & Sustainability\\nAt Merry's Way, we are more than just coffee. We are part of the community, and we care deeply about sustainability. We use eco-friendly packaging, work with local farmers, and strive to minimize our carbon footprint. Our café regularly hosts events, such as live music nights, art showcases, and community fundraisers, making it a hub for creativity and connection.\\n\\nWorking Hours\\nWe're open every day to make sure you can get your coffee whenever you need it:\\n\\nMonday to Friday: 7 AM – 8 PM\\nSaturday: 8 AM – 8 PM\\nSunday: 8 AM – 6 PM\\nWhether you’re grabbing a coffee on the go or staying to enjoy the warm, inviting atmosphere of our café, Merry’s Way is your destination for coffee done right.\\n\\nStop by today or order online—we can’t wait to serve you!\",\n",
       " 'Menu Items: Menu Items\\n\\nCappuccino - $4.50\\nJumbo Savory Scone - $3.25\\nLatte - $4.75\\nChocolate Chip Biscotti - $2.50\\nEspresso shot - $2.00\\nHazelnut Biscotti - $2.75\\nChocolate Croissant - $3.75\\nDark chocolate (Drinking Chocolate) - $5.00\\nCranberry Scone - $3.50\\nCroissant - $3.25\\nAlmond Croissant - $4.00\\nGinger Biscotti - $2.50\\nOatmeal Scone - $3.25\\nGinger Scone - $3.50\\nChocolate syrup - $1.50\\nHazelnut syrup - $1.50\\nCarmel syrup - $1.50\\nSugar Free Vanilla syrup - $1.50\\nDark chocolate (Packaged Chocolate) - $3.00']"
      ]
     },
     "execution_count": 16,
     "metadata": {},
     "output_type": "execute_result"
    }
   ],
   "source": [
    "texts"
   ]
  },
  {
   "cell_type": "code",
   "execution_count": 17,
   "metadata": {},
   "outputs": [],
   "source": [
    "output = model.encode(texts)"
   ]
  },
  {
   "cell_type": "code",
   "execution_count": 18,
   "metadata": {},
   "outputs": [
    {
     "data": {
      "text/plain": [
       "(20, 384)"
      ]
     },
     "execution_count": 18,
     "metadata": {},
     "output_type": "execute_result"
    }
   ],
   "source": [
    "output.shape"
   ]
  },
  {
   "cell_type": "markdown",
   "metadata": {},
   "source": [
    "## Push data to database"
   ]
  },
  {
   "cell_type": "code",
   "execution_count": 20,
   "metadata": {},
   "outputs": [
    {
     "data": {
      "text/plain": [
       "{\n",
       "    \"name\": \"coffeeshop\",\n",
       "    \"metric\": \"cosine\",\n",
       "    \"host\": \"coffeeshop-q4mme6u.svc.aped-4627-b74a.pinecone.io\",\n",
       "    \"spec\": {\n",
       "        \"serverless\": {\n",
       "            \"cloud\": \"aws\",\n",
       "            \"region\": \"us-east-1\"\n",
       "        }\n",
       "    },\n",
       "    \"status\": {\n",
       "        \"ready\": true,\n",
       "        \"state\": \"Ready\"\n",
       "    },\n",
       "    \"vector_type\": \"dense\",\n",
       "    \"dimension\": 384,\n",
       "    \"deletion_protection\": \"disabled\",\n",
       "    \"tags\": null\n",
       "}"
      ]
     },
     "execution_count": 20,
     "metadata": {},
     "output_type": "execute_result"
    }
   ],
   "source": [
    "index_name = \"coffeeshop\"\n",
    "\n",
    "pc.create_index(\n",
    "    name=index_name,\n",
    "    dimension=384, # Replace with your model dimensions\n",
    "    metric=\"cosine\", # Replace with your model metric\n",
    "    spec=ServerlessSpec(\n",
    "        cloud=\"aws\",\n",
    "        region=\"us-east-1\"\n",
    "    ) \n",
    ")"
   ]
  },
  {
   "cell_type": "code",
   "execution_count": 21,
   "metadata": {},
   "outputs": [
    {
     "data": {
      "text/plain": [
       "{'upserted_count': 20}"
      ]
     },
     "execution_count": 21,
     "metadata": {},
     "output_type": "execute_result"
    }
   ],
   "source": [
    "# Wait for the index to be ready\n",
    "while not pc.describe_index(index_name).status['ready']:\n",
    "    time.sleep(1)\n",
    "\n",
    "index = pc.Index(index_name)\n",
    "\n",
    "vectors = []\n",
    "for text, e in zip(texts, output):\n",
    "    entry_id = text.split(\":\")[0].strip()\n",
    "    vectors.append({\n",
    "        \"id\": entry_id,\n",
    "        \"values\": e,\n",
    "        \"metadata\": {'text': text}\n",
    "    })\n",
    "index.upsert(\n",
    "    vectors=vectors,\n",
    "    namespace=\"ns1\"\n",
    ")"
   ]
  },
  {
   "cell_type": "markdown",
   "metadata": {},
   "source": [
    "## Get closest documents"
   ]
  },
  {
   "cell_type": "code",
   "execution_count": 22,
   "metadata": {},
   "outputs": [],
   "source": [
    "output = model.encode([\"Is Cappuccino lactose-free?\"])"
   ]
  },
  {
   "cell_type": "code",
   "execution_count": 23,
   "metadata": {},
   "outputs": [
    {
     "name": "stdout",
     "output_type": "stream",
     "text": [
      "{'matches': [{'id': 'Cappuccino',\n",
      "              'metadata': {'text': 'Cappuccino : A rich and creamy cappuccino '\n",
      "                                   'made with freshly brewed espresso, steamed '\n",
      "                                   'milk, and a frothy milk cap. This '\n",
      "                                   'delightful drink offers a perfect balance '\n",
      "                                   'of bold coffee flavor and smooth milk, '\n",
      "                                   'making it an ideal companion for relaxing '\n",
      "                                   'mornings or lively conversations. -- '\n",
      "                                   \"Ingredients: ['Espresso', 'Steamed Milk', \"\n",
      "                                   \"'Milk Foam'] -- Price: 4.5 -- rating: 4.7\"},\n",
      "              'score': 0.632982075,\n",
      "              'values': []},\n",
      "             {'id': 'Sugar Free Vanilla syrup',\n",
      "              'metadata': {'text': 'Sugar Free Vanilla syrup : Enjoy the sweet '\n",
      "                                   'flavor of vanilla without the sugar, '\n",
      "                                   'making it perfect for your coffee or '\n",
      "                                   'dessert. This syrup offers a guilt-free '\n",
      "                                   'way to enhance your beverages, ensuring '\n",
      "                                   'you never miss out on flavor. -- '\n",
      "                                   \"Ingredients: ['Water', 'Natural Flavors', \"\n",
      "                                   \"'Sucralose'] -- Price: 1.5 -- rating: 4.4\"},\n",
      "              'score': 0.410232574,\n",
      "              'values': []},\n",
      "             {'id': 'Latte',\n",
      "              'metadata': {'text': 'Latte : Smooth and creamy, our latte '\n",
      "                                   'combines rich espresso with velvety '\n",
      "                                   'steamed milk, creating a perfect balance '\n",
      "                                   'of flavor and texture. Enjoy it as a '\n",
      "                                   'comforting treat any time of day, whether '\n",
      "                                   \"you're starting your morning or taking a \"\n",
      "                                   \"midday break. -- Ingredients: ['Espresso', \"\n",
      "                                   \"'Steamed Milk', 'Milk Foam'] -- Price: \"\n",
      "                                   '4.75 -- rating: 4.8'},\n",
      "              'score': 0.40131253,\n",
      "              'values': []}],\n",
      " 'namespace': 'ns1',\n",
      " 'usage': {'read_units': 1}}\n"
     ]
    }
   ],
   "source": [
    "import numpy as np\n",
    "results = index.query(\n",
    "    namespace=\"ns1\",\n",
    "    vector=np.array(output).tolist(),  # Convert to list\n",
    "    top_k=3,\n",
    "    include_values=False,\n",
    "    include_metadata=True\n",
    ")\n",
    "\n",
    "print(results)"
   ]
  },
  {
   "cell_type": "code",
   "execution_count": null,
   "metadata": {},
   "outputs": [],
   "source": []
  }
 ],
 "metadata": {
  "kernelspec": {
   "display_name": "ai",
   "language": "python",
   "name": "python3"
  },
  "language_info": {
   "codemirror_mode": {
    "name": "ipython",
    "version": 3
   },
   "file_extension": ".py",
   "mimetype": "text/x-python",
   "name": "python",
   "nbconvert_exporter": "python",
   "pygments_lexer": "ipython3",
   "version": "3.10.16"
  }
 },
 "nbformat": 4,
 "nbformat_minor": 2
}
