{
 "cells": [
  {
   "cell_type": "code",
   "execution_count": 1,
   "metadata": {},
   "outputs": [
    {
     "name": "stderr",
     "output_type": "stream",
     "text": [
      "/opt/anaconda3/envs/ai_diary/lib/python3.10/site-packages/tqdm/auto.py:21: TqdmWarning: IProgress not found. Please update jupyter and ipywidgets. See https://ipywidgets.readthedocs.io/en/stable/user_install.html\n",
      "  from .autonotebook import tqdm as notebook_tqdm\n"
     ]
    }
   ],
   "source": [
    "import ollama\n",
    "import json\n",
    "from sklearn.metrics.pairwise import cosine_similarity\n",
    "from tqdm import tqdm\n",
    "from sentence_transformers import SentenceTransformer"
   ]
  },
  {
   "cell_type": "code",
   "execution_count": 2,
   "metadata": {},
   "outputs": [
    {
     "name": "stdout",
     "output_type": "stream",
     "text": [
      "NAME                       ID              SIZE      MODIFIED     \n",
      "nomic-embed-text:latest    0a109f422b47    274 MB    9 hours ago     \n",
      "deepseek-r1:8b             28f8fd6cdc67    4.9 GB    9 hours ago     \n",
      "llama3.2:latest            a80c4f17acd5    2.0 GB    10 hours ago    \n"
     ]
    }
   ],
   "source": [
    "! ollama list"
   ]
  },
  {
   "cell_type": "code",
   "execution_count": 21,
   "metadata": {},
   "outputs": [],
   "source": [
    "response = ollama.chat(\n",
    "    model = \"llama3.2\" , \n",
    "    messages = [\n",
    "        {\"role\": \"user\" , \"content\": \"What's the capital of Germany?\"}\n",
    "    ] , \n",
    "    # temperature = 0.0 , \n",
    "    # top_p = 0.8 , \n",
    "    # max_tokens = 2000\n",
    ")"
   ]
  },
  {
   "cell_type": "code",
   "execution_count": 22,
   "metadata": {},
   "outputs": [
    {
     "name": "stdout",
     "output_type": "stream",
     "text": [
      "The capital of Germany is Berlin.\n"
     ]
    }
   ],
   "source": [
    "print(response[\"message\"][\"content\"])"
   ]
  },
  {
   "cell_type": "code",
   "execution_count": 4,
   "metadata": {},
   "outputs": [],
   "source": [
    "def get_chatbot_response(model_name , messages):\n",
    "    input_messages = []\n",
    "    for message in messages:\n",
    "        input_messages.append({\"role\": message[\"role\"] , \"content\": message[\"content\"]})\n",
    "    \n",
    "    response = ollama.chat(\n",
    "        model = model_name , \n",
    "        messages=input_messages , \n",
    "    )\n",
    "\n",
    "    return response[\"message\"][\"content\"]\n",
    "\n"
   ]
  },
  {
   "cell_type": "markdown",
   "metadata": {},
   "source": [
    "## Get LLM Response"
   ]
  },
  {
   "cell_type": "code",
   "execution_count": 5,
   "metadata": {},
   "outputs": [
    {
     "name": "stdout",
     "output_type": "stream",
     "text": [
      "The capital of Germany is Berlin.\n"
     ]
    }
   ],
   "source": [
    "model_name = \"llama3.2\"\n",
    "messages = [{\"role\": \"user\" , \"content\": \"What's the capital of Germany?\"}]\n",
    "response = get_chatbot_response(model_name=model_name , messages=messages)\n",
    "print(response)"
   ]
  },
  {
   "cell_type": "markdown",
   "metadata": {},
   "source": [
    "## Prompt Engineering"
   ]
  },
  {
   "cell_type": "markdown",
   "metadata": {},
   "source": [
    "### Structured output"
   ]
  },
  {
   "cell_type": "code",
   "execution_count": 34,
   "metadata": {},
   "outputs": [
    {
     "name": "stdout",
     "output_type": "stream",
     "text": [
      "[\n",
      "  {\n",
      "    \"country\": \"Germany\",\n",
      "    \"capital\": \"Berlin\"\n",
      "  }\n",
      "]\n"
     ]
    }
   ],
   "source": [
    "system_prompt = \"\"\"\n",
    "You are a helpful assistant that answer questions about capitals of countries.\n",
    "\n",
    "Your output should be in a structured json format exactly like the one bellow. you are not allowed to write anything other than the json object:\n",
    "[\n",
    "{\n",
    "   \"country\": the country that you will get the capital of\n",
    "   \"capital\": the capital of the country stated\n",
    "}\n",
    "]\n",
    "\"\"\"\n",
    "\n",
    "messages = [{\"role\": \"system\" , \"content\":system_prompt}]\n",
    "messages.append({\"role\":\"user\" , \"content\":\"What's the capital of Germany?\"})\n",
    "response = get_chatbot_response(model_name=model_name , messages=messages)\n",
    "print(response)"
   ]
  },
  {
   "cell_type": "code",
   "execution_count": 36,
   "metadata": {},
   "outputs": [
    {
     "data": {
      "text/plain": [
       "str"
      ]
     },
     "execution_count": 36,
     "metadata": {},
     "output_type": "execute_result"
    }
   ],
   "source": [
    "type(response)"
   ]
  },
  {
   "cell_type": "code",
   "execution_count": 37,
   "metadata": {},
   "outputs": [
    {
     "data": {
      "text/plain": [
       "[{'country': 'Germany', 'capital': 'Berlin'}]"
      ]
     },
     "execution_count": 37,
     "metadata": {},
     "output_type": "execute_result"
    }
   ],
   "source": [
    "json_response = json.loads(response)\n",
    "json_response"
   ]
  },
  {
   "cell_type": "code",
   "execution_count": 40,
   "metadata": {},
   "outputs": [
    {
     "data": {
      "text/plain": [
       "(dict, 'Berlin')"
      ]
     },
     "execution_count": 40,
     "metadata": {},
     "output_type": "execute_result"
    }
   ],
   "source": [
    "type(json_response[0]) , json_response[0][\"capital\"]"
   ]
  },
  {
   "cell_type": "markdown",
   "metadata": {},
   "source": [
    "## Input Structure"
   ]
  },
  {
   "cell_type": "code",
   "execution_count": 41,
   "metadata": {},
   "outputs": [],
   "source": [
    "user_input = \"\"\"\n",
    "Get me the capitals of the following countries:\n",
    "'''\n",
    "1. Italy\n",
    "2. Germany\n",
    "3. France\n",
    "''' \n",
    "\"\"\"\n",
    "\n",
    "messages = [{\"role\": \"system\" , \"content\": system_prompt}]\n",
    "messages.append({\"role\":\"user\" , \"content\": user_input})\n",
    "response = get_chatbot_response(model_name=model_name , messages=messages)"
   ]
  },
  {
   "cell_type": "code",
   "execution_count": 42,
   "metadata": {},
   "outputs": [
    {
     "name": "stdout",
     "output_type": "stream",
     "text": [
      "[\n",
      "  {\n",
      "    \"country\": \"Italy\",\n",
      "    \"capital\": \"Rome\"\n",
      "  },\n",
      "  {\n",
      "    \"country\": \"Germany\",\n",
      "    \"capital\": \"Berlin\"\n",
      "  },\n",
      "  {\n",
      "    \"country\": \"France\",\n",
      "    \"capital\": \"Paris\"\n",
      "  }\n",
      "]\n"
     ]
    }
   ],
   "source": [
    "print(response)"
   ]
  },
  {
   "cell_type": "code",
   "execution_count": 43,
   "metadata": {},
   "outputs": [],
   "source": [
    "json_response = json.loads(response)"
   ]
  },
  {
   "cell_type": "code",
   "execution_count": 44,
   "metadata": {},
   "outputs": [
    {
     "data": {
      "text/plain": [
       "[{'country': 'Italy', 'capital': 'Rome'},\n",
       " {'country': 'Germany', 'capital': 'Berlin'},\n",
       " {'country': 'France', 'capital': 'Paris'}]"
      ]
     },
     "execution_count": 44,
     "metadata": {},
     "output_type": "execute_result"
    }
   ],
   "source": [
    "json_response"
   ]
  },
  {
   "cell_type": "markdown",
   "metadata": {},
   "source": [
    "### Give the model time to think (Chain of Thought)"
   ]
  },
  {
   "cell_type": "code",
   "execution_count": 45,
   "metadata": {},
   "outputs": [
    {
     "name": "stdout",
     "output_type": "stream",
     "text": [
      "{\n",
      "    \"result\": 4\n",
      "}\n"
     ]
    }
   ],
   "source": [
    "user_prompt = \"\"\" \n",
    "Calculate the result of this equation: 1 + 3\n",
    "\n",
    "Your output should be in a structured json format exactly like the one bellow. You are not allowed to write anything other than the json object:\n",
    "{\n",
    "   result: The final number resulted from calculating the equation above\n",
    "}\n",
    "\"\"\"\n",
    "\n",
    "messages = [{\"role\": \"user\" , \"content\": user_prompt}]\n",
    "response = get_chatbot_response(model_name=model_name , messages=messages)\n",
    "print(response)"
   ]
  },
  {
   "cell_type": "code",
   "execution_count": 46,
   "metadata": {},
   "outputs": [
    {
     "data": {
      "text/plain": [
       "4113098.0"
      ]
     },
     "execution_count": 46,
     "metadata": {},
     "output_type": "execute_result"
    }
   ],
   "source": [
    "259/2*8654+91072*33-12971"
   ]
  },
  {
   "cell_type": "code",
   "execution_count": 49,
   "metadata": {},
   "outputs": [
    {
     "name": "stdout",
     "output_type": "stream",
     "text": [
      "{\n",
      "  \"result\": -10132777.857142856 }\n"
     ]
    }
   ],
   "source": [
    "user_prompt = \"\"\" \n",
    "Calculate the result of this equation: 259/2*8654+91072*33-12971\n",
    "\n",
    "Your output should be in a structured json format exactly like the one bellow. You are not allowed to write anything other than the json object:\n",
    "{\n",
    "   result: The final number resulted from calculating the equation above\n",
    "}\n",
    "\"\"\"\n",
    "\n",
    "messages = [{\"role\": \"user\" , \"content\": user_prompt}]\n",
    "response = get_chatbot_response(model_name=model_name , messages=messages)\n",
    "print(response)\n"
   ]
  },
  {
   "cell_type": "code",
   "execution_count": 52,
   "metadata": {},
   "outputs": [
    {
     "name": "stdout",
     "output_type": "stream",
     "text": [
      "{\n",
      "  \"steps\": [\n",
      "    \"Start with the division: 259/2 = 129.5\",\n",
      "    \"Multiply 129.5 by 8654: 129.5*8654 = 1132939\",\n",
      "    \"Multiply 91072 by 33: 91072*33 = 3004068\",\n",
      "    \"Add 1132939 and 3004068: 1132939 + 3004068 = 4137007\",\n",
      "    \"Subtract 12971 from 4137007: 4137007 - 12971 = 4128636\"\n",
      "  ],\n",
      "  \"result\": 4128636\n",
      "}\n"
     ]
    }
   ],
   "source": [
    "user_prompt = \"\"\" \n",
    "Calculate the result of this equation: 259/2*8654+91072*33-12971\n",
    "\n",
    "Your output should be in a structured json format exactly like the one bellow. You are not allowed to write anything other than the json object:\n",
    "{  steps: This is where you solve the equation bit by bit following the BEDMAS order of operations. You need to show your work and calculate each step leading to the final result.Feel free to write in free text.\n",
    "   result: The final number resulted from calculating the equation above\n",
    "}\n",
    "\"\"\"\n",
    "\n",
    "\n",
    "messages = [{\"role\": \"user\" , \"content\": user_prompt}]\n",
    "response = get_chatbot_response(model_name=model_name , messages=messages)\n",
    "print(response)\n"
   ]
  },
  {
   "cell_type": "markdown",
   "metadata": {},
   "source": [
    "## RAG : Retrieval Augmented Generation"
   ]
  },
  {
   "cell_type": "code",
   "execution_count": 6,
   "metadata": {},
   "outputs": [
    {
     "name": "stdout",
     "output_type": "stream",
     "text": [
      "I'm not aware of any official information about an iPhone 16, as Apple has not officially announced a 16th-generation iPhone. However, I can provide you with some rumors and leaks that have been circulating:\n",
      "\n",
      "* Rumored features:\n",
      "\t+ Improved cameras with a new periscope lens for better zoom capabilities\n",
      "\t+ Enhanced display with higher refresh rates (up to 120Hz) and faster charging\n",
      "\t+ New colors and design options, potentially including a titanium frame\n",
      "\t+ Enhanced biometric security features, such as an in-display fingerprint sensor or Face ID 2.0\n",
      "\t+ Possibly a new processor from Apple A17 Bionic chip, which would provide improved performance and power efficiency\n",
      "* Release date:\n",
      "\t+ Rumored to be released in the fall of 2023, potentially around September or October\n",
      "\t+ However, please note that this is just speculation and has not been officially confirmed by Apple\n",
      "\n",
      "Please keep in mind that these are just rumors and leaks, and Apple may choose to surprise us with new features and designs. I'll make sure to provide more information as it becomes available!\n"
     ]
    }
   ],
   "source": [
    "user_prompt = \"\"\"\n",
    "What's new in iphone 16? \n",
    "\"\"\"\n",
    "\n",
    "messages = [{\"role\":\"user\" , \"content\":user_prompt}]\n",
    "response = get_chatbot_response(model_name=model_name , messages=messages)\n",
    "print(response)"
   ]
  },
  {
   "cell_type": "code",
   "execution_count": 7,
   "metadata": {},
   "outputs": [],
   "source": [
    "iphone_16 = \"\"\"\n",
    "The iPhone 16 introduces several exciting updates, making it one of Apple's most advanced smartphones to date. It features a larger 6.1-inch display for the base model and a 6.7-inch screen for the iPhone 16 Plus, with thinner bezels and a more durable Ceramic Shield. The iPhone 16 Pro and Pro Max boast even larger displays, measuring 6.3 and 6.9 inches respectively, offering the thinnest bezels seen on any Apple product so far.\n",
    "\n",
    "Powered by the new A18 chip (A18 Pro for the Pro models), these phones deliver significant performance improvements, with enhanced neural engine capabilities, faster GPU for gaming, and machine learning tasks. The camera systems are also upgraded, with the base iPhone 16 sporting a dual-camera setup with a 48MP main sensor. The Pro models offer a 48MP Ultra Wide and 5x telephoto camera, enhanced by Apple’s \"Camera Control\" button for more flexible photography options.\n",
    "\n",
    "Apple also introduced advanced audio features like \"Audio Mix,\" which uses machine learning to separate background sounds from speech, allowing for more refined audio capture during video recording. Battery life has been extended, especially in the iPhone 16 Pro Max, which is claimed to have the longest-lasting battery of any iPhone \n",
    "9TO5MAC\n",
    "\n",
    "APPLEMAGAZINE\n",
    ".\n",
    "\n",
    "Additionally, Apple has switched to USB-C for faster charging and data transfer, and the Pro models now support up to 2x faster video encoding. The starting prices remain consistent with previous generations, with the iPhone 16 starting at $799, while the Pro models start at $999\n",
    "\"\"\""
   ]
  },
  {
   "cell_type": "code",
   "execution_count": 8,
   "metadata": {},
   "outputs": [
    {
     "name": "stdout",
     "output_type": "stream",
     "text": [
      "Here are the key updates in the iPhone 16:\n",
      "\n",
      "1. Display: Larger screens for different models:\n",
      "\t* Base model: 6.1-inch display\n",
      "\t* iPhone 16 Plus: 6.7-inch screen\n",
      "\t* iPhone 16 Pro and Pro Max: 6.3 and 6.9 inches respectively\n",
      "\n",
      "2. Design: Thinner bezels, more durable Ceramic Shield on the front.\n",
      "\n",
      "3. Performance:\n",
      "\t* Powered by new A18 chip (A18 Pro for Pro models) with improved performance.\n",
      "\t* Enhanced neural engine capabilities, faster GPU for gaming and machine learning tasks.\n",
      "\n",
      "4. Camera:\n",
      "\t* Dual-camera setup with a 48MP main sensor on the base model.\n",
      "\t* 48MP Ultra Wide and 5x telephoto camera on Pro models.\n",
      "\n",
      "5. Audio: Advanced audio features like \"Audio Mix\" for better audio capture during video recording.\n",
      "\n",
      "6. Battery Life: Extended battery life, especially in the iPhone 16 Pro Max.\n",
      "\n",
      "7. Charging: Switched to USB-C for faster charging and data transfer.\n",
      "\n",
      "8. Video Encoding: Supports up to 2x faster video encoding on Pro models.\n",
      "\n",
      "9. Pricing:\n",
      "\t* Starting at $799 for the base model.\n",
      "\t* Starting at $999 for the Pro models.\n"
     ]
    }
   ],
   "source": [
    "user_prompt = f\"\"\"\n",
    "{iphone_16}\n",
    "What's new in iphone 16?\n",
    "\"\"\"\n",
    "\n",
    "messages = [{\"role\":\"user\" , \"content\":user_prompt}]\n",
    "response = get_chatbot_response(model_name , messages)\n",
    "print(response)"
   ]
  },
  {
   "cell_type": "markdown",
   "metadata": {},
   "source": [
    "### Automatically Extract context data from database"
   ]
  },
  {
   "cell_type": "code",
   "execution_count": 9,
   "metadata": {},
   "outputs": [],
   "source": [
    "samsung_s23 = \"\"\"\n",
    "The Samsung Galaxy S23 brings some incremental but notable upgrades to its predecessor, the Galaxy S22. It features the Snapdragon 8 Gen 2 processor, a powerful chip optimized for the S23 series, delivering enhanced performance, especially for gaming and multitasking. This chip ensures top-tier speed and efficiency across all models, from the base S23 to the larger S23+ and S23 Ultra​\n",
    "STUFF\n",
    "\n",
    "TECHRADAR\n",
    ".\n",
    "\n",
    "In terms of design, the S23's camera module has been streamlined by removing the raised metal contour around the cameras, creating a cleaner, sleeker look. It also sports the same 6.1-inch 120Hz AMOLED display, protected by tougher Gorilla Glass Victus 2, making it more resistant to scratches and drops​\n",
    "TECHRADAR\n",
    ".\n",
    "\n",
    "The S23 Ultra stands out with its 200MP main camera, offering impressive photo clarity, especially in low-light conditions. The selfie camera across the series has been updated to a 12MP sensor, resulting in sharper selfies. The Ultra model also includes productivity tools such as the S-Pen, which remains an essential feature for note-taking and creative tasks​\n",
    "STUFF\n",
    "\n",
    "TECHRADAR\n",
    ".\n",
    "\n",
    "Battery life is solid, with the S23 Ultra featuring a 5000mAh battery that lasts comfortably through a day of heavy use. However, charging speeds still lag behind some competitors, with 45W wired charging, which is slower than other brands offering up to 125W charging​\n",
    "STUFF\n",
    ".\n",
    "\n",
    "Overall, the Galaxy S23 series enhances performance, durability, and camera quality, making it a strong contender for users seeking a high-performance flagship.\n",
    "\"\"\""
   ]
  },
  {
   "cell_type": "code",
   "execution_count": 10,
   "metadata": {},
   "outputs": [],
   "source": [
    "data = [iphone_16 , samsung_s23]"
   ]
  },
  {
   "cell_type": "code",
   "execution_count": 27,
   "metadata": {},
   "outputs": [],
   "source": [
    "user_prompt = \"What's new in samsumg s23?\""
   ]
  },
  {
   "cell_type": "code",
   "execution_count": 12,
   "metadata": {},
   "outputs": [
    {
     "name": "stdout",
     "output_type": "stream",
     "text": [
      "(2, 768)\n"
     ]
    }
   ],
   "source": [
    "\n",
    "model = SentenceTransformer(\"hkunlp/instructor-xl\")\n",
    "sentences = [\"What is the best embedding model?\", \"Llama 3.2 is great!\"]\n",
    "embeddings = model.encode(sentences)\n",
    "print(embeddings.shape)  # Output shape: (2, 768)"
   ]
  },
  {
   "cell_type": "code",
   "execution_count": 28,
   "metadata": {},
   "outputs": [],
   "source": [
    "user_prompt_embeddings = model.encode(user_prompt)"
   ]
  },
  {
   "cell_type": "code",
   "execution_count": 18,
   "metadata": {},
   "outputs": [],
   "source": [
    "import numpy as np\n",
    "\n",
    "def get_embedding(model, text_input):\n",
    "    \"\"\"\n",
    "    Generate an embedding similar to OpenAI's structure.\n",
    "    Ensures output is a 2D array.\n",
    "    \"\"\"\n",
    "    embeddings = model.encode(text_input)\n",
    "\n",
    "    # Ensure the output is a 2D array (1 sample, N features)\n",
    "    return np.array(embeddings).reshape(1, -1)"
   ]
  },
  {
   "cell_type": "code",
   "execution_count": 19,
   "metadata": {},
   "outputs": [],
   "source": [
    "data_embeddings = [get_embedding(model , text)[0] for text in data]\n"
   ]
  },
  {
   "cell_type": "code",
   "execution_count": 16,
   "metadata": {},
   "outputs": [
    {
     "data": {
      "text/plain": [
       "2"
      ]
     },
     "execution_count": 16,
     "metadata": {},
     "output_type": "execute_result"
    }
   ],
   "source": [
    "len(data_embeddings)"
   ]
  },
  {
   "cell_type": "code",
   "execution_count": 29,
   "metadata": {},
   "outputs": [],
   "source": [
    "data_similarity = cosine_similarity([user_prompt_embeddings] , data_embeddings)"
   ]
  },
  {
   "cell_type": "code",
   "execution_count": 30,
   "metadata": {},
   "outputs": [
    {
     "data": {
      "text/plain": [
       "array([[0.69005114, 0.82040536]], dtype=float32)"
      ]
     },
     "execution_count": 30,
     "metadata": {},
     "output_type": "execute_result"
    }
   ],
   "source": [
    "data_similarity"
   ]
  },
  {
   "cell_type": "code",
   "execution_count": 31,
   "metadata": {},
   "outputs": [
    {
     "data": {
      "text/plain": [
       "1"
      ]
     },
     "execution_count": 31,
     "metadata": {},
     "output_type": "execute_result"
    }
   ],
   "source": [
    "closest_entry_index = data_similarity.argmax()\n",
    "closest_entry_index"
   ]
  },
  {
   "cell_type": "code",
   "execution_count": 32,
   "metadata": {},
   "outputs": [
    {
     "data": {
      "text/plain": [
       "\"\\nThe Samsung Galaxy S23 brings some incremental but notable upgrades to its predecessor, the Galaxy S22. It features the Snapdragon 8 Gen 2 processor, a powerful chip optimized for the S23 series, delivering enhanced performance, especially for gaming and multitasking. This chip ensures top-tier speed and efficiency across all models, from the base S23 to the larger S23+ and S23 Ultra\\u200b\\nSTUFF\\n\\nTECHRADAR\\n.\\n\\nIn terms of design, the S23's camera module has been streamlined by removing the raised metal contour around the cameras, creating a cleaner, sleeker look. It also sports the same 6.1-inch 120Hz AMOLED display, protected by tougher Gorilla Glass Victus 2, making it more resistant to scratches and drops\\u200b\\nTECHRADAR\\n.\\n\\nThe S23 Ultra stands out with its 200MP main camera, offering impressive photo clarity, especially in low-light conditions. The selfie camera across the series has been updated to a 12MP sensor, resulting in sharper selfies. The Ultra model also includes productivity tools such as the S-Pen, which remains an essential feature for note-taking and creative tasks\\u200b\\nSTUFF\\n\\nTECHRADAR\\n.\\n\\nBattery life is solid, with the S23 Ultra featuring a 5000mAh battery that lasts comfortably through a day of heavy use. However, charging speeds still lag behind some competitors, with 45W wired charging, which is slower than other brands offering up to 125W charging\\u200b\\nSTUFF\\n.\\n\\nOverall, the Galaxy S23 series enhances performance, durability, and camera quality, making it a strong contender for users seeking a high-performance flagship.\\n\""
      ]
     },
     "execution_count": 32,
     "metadata": {},
     "output_type": "execute_result"
    }
   ],
   "source": [
    "data[closest_entry_index]"
   ]
  },
  {
   "cell_type": "code",
   "execution_count": 33,
   "metadata": {},
   "outputs": [],
   "source": [
    "user_prompt_with_data = f\"\"\" \n",
    "{data[closest_entry_index]}\n",
    "\n",
    "{user_prompt}\n",
    "\"\"\""
   ]
  },
  {
   "cell_type": "code",
   "execution_count": 34,
   "metadata": {},
   "outputs": [
    {
     "name": "stdout",
     "output_type": "stream",
     "text": [
      " \n",
      "\n",
      "The Samsung Galaxy S23 brings some incremental but notable upgrades to its predecessor, the Galaxy S22. It features the Snapdragon 8 Gen 2 processor, a powerful chip optimized for the S23 series, delivering enhanced performance, especially for gaming and multitasking. This chip ensures top-tier speed and efficiency across all models, from the base S23 to the larger S23+ and S23 Ultra​\n",
      "STUFF\n",
      "\n",
      "TECHRADAR\n",
      ".\n",
      "\n",
      "In terms of design, the S23's camera module has been streamlined by removing the raised metal contour around the cameras, creating a cleaner, sleeker look. It also sports the same 6.1-inch 120Hz AMOLED display, protected by tougher Gorilla Glass Victus 2, making it more resistant to scratches and drops​\n",
      "TECHRADAR\n",
      ".\n",
      "\n",
      "The S23 Ultra stands out with its 200MP main camera, offering impressive photo clarity, especially in low-light conditions. The selfie camera across the series has been updated to a 12MP sensor, resulting in sharper selfies. The Ultra model also includes productivity tools such as the S-Pen, which remains an essential feature for note-taking and creative tasks​\n",
      "STUFF\n",
      "\n",
      "TECHRADAR\n",
      ".\n",
      "\n",
      "Battery life is solid, with the S23 Ultra featuring a 5000mAh battery that lasts comfortably through a day of heavy use. However, charging speeds still lag behind some competitors, with 45W wired charging, which is slower than other brands offering up to 125W charging​\n",
      "STUFF\n",
      ".\n",
      "\n",
      "Overall, the Galaxy S23 series enhances performance, durability, and camera quality, making it a strong contender for users seeking a high-performance flagship.\n",
      "\n",
      "\n",
      "What's new in samsumg s23?\n",
      "\n"
     ]
    }
   ],
   "source": [
    "print(user_prompt_with_data)"
   ]
  },
  {
   "cell_type": "code",
   "execution_count": 35,
   "metadata": {},
   "outputs": [
    {
     "name": "stdout",
     "output_type": "stream",
     "text": [
      "Here are the key updates in Samsung S23:\n",
      "\n",
      "1. Processor: Snapdragon 8 Gen 2 processor for enhanced performance, especially for gaming and multitasking.\n",
      "2. Design: Streamlined camera module with a cleaner look, same 6.1-inch 120Hz AMOLED display, and tougher Gorilla Glass Victus 2 for better protection.\n",
      "3. Camera:\n",
      "   - S23 Ultra has a 200MP main camera offering impressive photo clarity in low-light conditions.\n",
      "   - Selfie camera is updated to a 12MP sensor for sharper selfies.\n",
      "4. Battery: Solid battery life, with the S23 Ultra featuring a 5000mAh battery and 45W wired charging.\n",
      "5. Additional feature (only on S23 Ultra): Productivity tool like the S-Pen for note-taking and creative tasks.\n",
      "\n",
      "Overall, the Samsung S23 series offers enhanced performance, durability, and camera quality, making it a strong contender in the market.\n"
     ]
    }
   ],
   "source": [
    "messages = [{\"role\":\"user\" , \"content\":user_prompt_with_data}]\n",
    "response = get_chatbot_response(model_name , messages)\n",
    "print(response)"
   ]
  },
  {
   "cell_type": "code",
   "execution_count": null,
   "metadata": {},
   "outputs": [],
   "source": []
  }
 ],
 "metadata": {
  "kernelspec": {
   "display_name": "ai_diary",
   "language": "python",
   "name": "python3"
  },
  "language_info": {
   "codemirror_mode": {
    "name": "ipython",
    "version": 3
   },
   "file_extension": ".py",
   "mimetype": "text/x-python",
   "name": "python",
   "nbconvert_exporter": "python",
   "pygments_lexer": "ipython3",
   "version": "3.10.16"
  }
 },
 "nbformat": 4,
 "nbformat_minor": 2
}
